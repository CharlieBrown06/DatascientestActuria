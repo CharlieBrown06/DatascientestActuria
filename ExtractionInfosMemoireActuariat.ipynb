#Extraction des infos de la page d'un mémoire d'actuariat

# On s'assure que ces api sont bien installées:
!pip install selenium webdriver-manager

#On importe ces API:
from selenium import webdriver
from selenium.webdriver.chrome.options import Options
from selenium.webdriver.chrome.service import Service
from bs4 import BeautifulSoup
import time
import os

# URL à scraper
url = "https://www.institutdesactuaires.com/se-documenter/memoires/memoires-d-actuariat-4651?id=853c55d98ca0bcdbe11f477f25006700"

# Chemin du fichier de sortie
output_file = "/home/demians/datascientestProjects/DatascientestActuria/memoires_extraction_actuariat.txt"

# Configuration de Selenium avec Chromium
chrome_options = Options()
chrome_options.add_argument("--headless")
chrome_options.add_argument("--no-sandbox")
chrome_options.add_argument("--disable-dev-shm-usage")
chrome_options.binary_location = "/snap/bin/chromium"  # Chemin vers l'exécutable Chromium snap

try:
    # Initialisation du driver avec le chemin vers chromedriver
    # Pas certain que le driver soit compatible avec ma version de Chromium
    # Je suis censé préciser le chemin vers mon chromium driver ici:
    #driver = webdriver.Chrome(options=chrome_options)

    
    # Use webdriver_manager to handle driver installation
    service = Service(ChromeDriverManager().install())
    
    # Initialize the driver with options and service
    driver = webdriver.Chrome(service=service, options=chrome_options)
    
    # Test that it works
    driver.get("https://www.google.com")
    print(f"Title: {driver.title}")
    
    # Always close the driver when done
    driver.quit()
    print("Chrome WebDriver session created successfully!")
    
except Exception as e:
    print(f"Ca a merdé pour initiliser le driver Chromium; fait chier!: {e}")
    
    # Accès à la page
    driver.get(url)
    
    # Attendre que la page se charge complètement
    time.sleep(5)
    
    # Récupération du contenu HTML
    html_content = driver.page_source
    
    # Analyse avec BeautifulSoup
    soup = BeautifulSoup(html_content, 'html.parser')
    
    # Extraction des informations
    content_div = soup.find('div', class_='content')
    
    if content_div:
        # Recherche des lignes de texte
        paragraphs = content_div.find_all(['p', 'h1', 'h2', 'h3', 'h4', 'h5', 'h6', 'strong', 'b'])
        
        # Extraction des 4 premières lignes et du texte suivant
        lines = []
        bold_line = None
        
        # Trouver la première ligne en gras
        for p in paragraphs:
            bold_elements = p.find_all(['strong', 'b'])
            if bold_elements:
                bold_line = bold_elements[0].get_text(strip=True)
                if bold_line:
                    lines.append(f"Première ligne en gras: {bold_line}")
                    break
        
        # Extraire les lignes suivantes qui sont les métadonnées  (titre du mémoire, nom de l'auteur,société éditrice, année de publication)
        text_paragraphs = [p.get_text(strip=True) for p in paragraphs if p.get_text(strip=True)]
        
        # Ajouter les lignes 2, 3 et 4 Les 4 premières lignes sont obligatoirement existantes.
        if len(text_paragraphs) > 1:
            lines.append(f"Deuxième ligne: {text_paragraphs[1]}")
        if len(text_paragraphs) > 2:
            lines.append(f"Troisième ligne: {text_paragraphs[2]}")
        if len(text_paragraphs) > 3:
            lines.append(f"Quatrième ligne: {text_paragraphs[3]}")
        
        # Ajouter le reste du texte qui sont les résumés en français et anglais:
        if len(text_paragraphs) > 4:
            i=i+4
            lines.append("Texte sous ces lignes:")
            lines.append(text_paragraphs[i])
            i++
        
        # Recherche du lien vers le PDF
        pdf_link = None
        links = content_div.find_all('a', href=True)
        for link in links:
            if link.get('href').endswith('.pdf') or 'pdf' in link.get('href').lower():
                pdf_link = link.get('href')
                if not pdf_link.startswith('http'):
                    # Construire l'URL complète si c'est un chemin relatif
                    base_url = '/'.join(url.split('/')[:3])
                    pdf_link = f"{base_url}{pdf_link if pdf_link.startswith('/') else '/' + pdf_link}"
                break
        
        if pdf_link:
            lines.append(f"URL du PDF du Mémoire complet: {pdf_link}")
        else:
            lines.append("Aucun mémoire présent")
        
        # Ajouter l'URL de la page actuelle présentant ce mémoire:
        lines.append(f"URL de la page: {url}")
        
        # Créer le répertoire parent si nécessaire
        os.makedirs(os.path.dirname(output_file), exist_ok=True)
        
        # Écrire dans le fichier de sortie
        with open(output_file, 'w', encoding='utf-8') as f:
            f.write('\n\n'.join(lines))
        
        print(f"Extraction terminée. Les données ont été enregistrées dans {output_file}")
    else:
        print("Contenu principal non trouvé sur la page.")

except Exception as e:
    print(f"Une erreur s'est produite: {e}")

finally:
    # Fermer le navigateur
    if 'driver' in locals():
        driver.quit()

''' logs:
Requirement already satisfied: selenium in ./anaconda3/lib/python3.12/site-packages (4.30.0)
Requirement already satisfied: webdriver-manager in ./anaconda3/lib/python3.12/site-packages (4.0.2)
Requirement already satisfied: urllib3<3,>=1.26 in ./anaconda3/lib/python3.12/site-packages (from urllib3[socks]<3,>=1.26->selenium) (2.2.3)
Requirement already satisfied: trio~=0.17 in ./anaconda3/lib/python3.12/site-packages (from selenium) (0.29.0)
Requirement already satisfied: trio-websocket~=0.9 in ./anaconda3/lib/python3.12/site-packages (from selenium) (0.12.2)
Requirement already satisfied: certifi>=2021.10.8 in ./anaconda3/lib/python3.12/site-packages (from selenium) (2025.1.31)
Requirement already satisfied: typing_extensions~=4.9 in ./anaconda3/lib/python3.12/site-packages (from selenium) (4.11.0)
Requirement already satisfied: websocket-client~=1.8 in ./anaconda3/lib/python3.12/site-packages (from selenium) (1.8.0)
Requirement already satisfied: requests in ./anaconda3/lib/python3.12/site-packages (from webdriver-manager) (2.32.3)
Requirement already satisfied: python-dotenv in ./anaconda3/lib/python3.12/site-packages (from webdriver-manager) (0.21.0)
Requirement already satisfied: packaging in ./anaconda3/lib/python3.12/site-packages (from webdriver-manager) (24.1)
Requirement already satisfied: attrs>=23.2.0 in ./anaconda3/lib/python3.12/site-packages (from trio~=0.17->selenium) (25.3.0)
Requirement already satisfied: sortedcontainers in ./anaconda3/lib/python3.12/site-packages (from trio~=0.17->selenium) (2.4.0)
Requirement already satisfied: idna in ./anaconda3/lib/python3.12/site-packages (from trio~=0.17->selenium) (3.7)
Requirement already satisfied: outcome in ./anaconda3/lib/python3.12/site-packages (from trio~=0.17->selenium) (1.3.0.post0)
Requirement already satisfied: sniffio>=1.3.0 in ./anaconda3/lib/python3.12/site-packages (from trio~=0.17->selenium) (1.3.0)
Requirement already satisfied: wsproto>=0.14 in ./anaconda3/lib/python3.12/site-packages (from trio-websocket~=0.9->selenium) (1.2.0)
Requirement already satisfied: pysocks!=1.5.7,<2.0,>=1.5.6 in ./anaconda3/lib/python3.12/site-packages (from urllib3[socks]<3,>=1.26->selenium) (1.7.1)
Requirement already satisfied: charset-normalizer<4,>=2 in ./anaconda3/lib/python3.12/site-packages (from requests->webdriver-manager) (3.3.2)
Requirement already satisfied: h11<1,>=0.9.0 in ./anaconda3/lib/python3.12/site-packages (from wsproto>=0.14->trio-websocket~=0.9->selenium) (0.14.0)
Ca a merdé pour initiliser le driver Chromium; fait chier!: name 'ChromeDriverManager' is not defined
---------------------------------------------------------------------------
NameError                                 Traceback (most recent call last)
Cell In[10], line 31
     23 try:
     24     # Initialisation du driver avec le chemin vers chromedriver
     25     # Pas certain que le driver soit compatible avec ma version de Chromium
   (...)
     29     
     30     # Use webdriver_manager to handle driver installation
---> 31     service = Service(ChromeDriverManager().install())
     33     # Initialize the driver with options and service

NameError: name 'ChromeDriverManager' is not defined

During handling of the above exception, another exception occurred:

NameError                                 Traceback (most recent call last)
Cell In[10], line 48
     45 print(f"Ca a merdé pour initiliser le driver Chromium; fait chier!: {e}")
     47 # Accès à la page
---> 48 driver.get(url)
     50 # Attendre que la page se charge complètement
     51 time.sleep(5)

NameError: name 'driver' is not defined
'''